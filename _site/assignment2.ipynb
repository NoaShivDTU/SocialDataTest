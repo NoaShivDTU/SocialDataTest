{
 "cells": [
  {
   "cell_type": "code",
   "execution_count": 2,
   "metadata": {},
   "outputs": [],
   "source": [
    "import pandas as pd\n",
    "import matplotlib.pyplot as plt\n",
    "import numpy as np\n",
    "import plotly.graph_objects as go\n",
    "from bokeh.plotting import figure, show, output_file\n",
    "from bokeh.io import output_notebook\n",
    "from bokeh.palettes import HighContrast3\n",
    "from bokeh.models import ColumnDataSource, FactorRange\n",
    "from bokeh.embed import components\n",
    "from bokeh.resources import CDN\n",
    "import folium\n",
    "from folium.plugins import HeatMap\n",
    "from folium import plugins\n"
   ]
  },
  {
   "cell_type": "code",
   "execution_count": 3,
   "metadata": {},
   "outputs": [],
   "source": [
    "\n",
    "\n",
    "def dataframes(focuscrimes=None):\n",
    "    '''\n",
    "    This function reads the data from the two csv files and combines them into one dataframe.\n",
    "    It then filters the data based on the focus crimes and returns the filtered dataframe.\n",
    "    If no focus crimes are provided, the function returns the entire dataframe including all crimes. \n",
    "    '''\n",
    "    df_present = pd.read_csv('PD_SF_2018_2024.csv', usecols=[\"Incident Category\", \"Incident Datetime\", \"Latitude\", \"Longitude\"])\n",
    "    df_past = pd.read_csv(\"PD_SF_2003_2018.csv\", usecols=[\"Category\", \"Date\", \"Time\", \"Y\", \"X\"])\n",
    "    df_present['Incident Datetime'] = pd.to_datetime(df_present['Incident Datetime'])\n",
    "    # df_past['Incident Datetime'] = df_past['Date'] + ' ' + df_past['Time']\n",
    "    # df_past['Incident Datetime'] = pd.to_datetime(df_past['Incident Datetime'])\n",
    "    df_past['Incident Datetime'] = pd.to_datetime(df_past['Date'] + ' ' + df_past['Time'],\n",
    "    errors='coerce')\n",
    "\n",
    "   \n",
    "    df_past.rename(columns={\"Category\": \"Incident Category\", 'X': 'Longitude', 'Y': 'Latitude'}, inplace=True)\n",
    "    df_past.index = df_past['Incident Datetime']\n",
    "    df_present.index = df_present['Incident Datetime']\n",
    "\n",
    "\n",
    "    df_past.sort_index(inplace=True)\n",
    "    df_present.sort_index(inplace=True)\n",
    "\n",
    "    df_past = df_past.loc[:'2018-01-01']\n",
    "    df_present = df_present.loc['2018-01-01':]\n",
    "    #To create consistency with the focus crimes, all crimes are set the upper case letters\n",
    "    df_present['Incident Category'] = df_present['Incident Category'].str.upper()\n",
    "    \n",
    "    #Combining the two data set vertically \n",
    "    df = pd.concat([df_past, df_present], axis=0)\n",
    "    df = df.drop(columns=['Date', 'Time'])\n",
    "    # Standardize crime categories\n",
    "    crime_rename_map = {\n",
    "        \"LARCENY THEFT\": \"LARCENY/THEFT\",\n",
    "        \"MOTOR VEHICLE THEFT\": \"VEHICLE THEFT\",\n",
    "        \"MOTOR VEHICLE THEFT\": \"VEHICLE THEFT\",\n",
    "        \"MALICIOUS MISCHIEF\": \"VANDALISM\",\n",
    "        \"WEAPONS OFFENCE\": \"WEAPON LAWS\", \n",
    "        \"WEAPONS OFFENSE\": \"WEAPON LAWS\", \n",
    "        \"WEAPONS CARRYING ET\": \"WEAPON LAWS\", \n",
    "        \"DRUG NARCOTIC\": \"DRUG/NARCOTIC\",\n",
    "        \"DRUG VIOLATION\": \"DRUG/NARCOTIC\",\n",
    "        \"DRUG OFFENSE\": \"DRUG/NARCOTIC\",\n",
    "        'DISORDERLY CONDUCT': 'DRUNKENNESS'\n",
    "    }\n",
    "    df[\"Incident Category\"] = df[\"Incident Category\"].replace(crime_rename_map)\n",
    "    \n",
    "\n",
    "    #Providing columns with different times will be used in the tasks\n",
    "    df['Year'] = df.index.year\n",
    "    df['Month'] = df.index.month\n",
    "    df['Day'] = df.index.day\n",
    "    df['Hour'] = df.index.hour\n",
    "    df['Minute'] = df.index.minute\n",
    "    df['YearMonth'] = df.index.to_period('M')\n",
    "    # make  df['YearMonth'] datetime\n",
    "    df['YearMonth'] = df['YearMonth'].dt.to_timestamp()\n",
    "    \n",
    "\n",
    "    if focuscrimes:\n",
    "\n",
    "        df_focuscrimes = df[df['Incident Category'].isin(focuscrimes)]\n",
    "        return df_focuscrimes\n",
    "    else:\n",
    "        return df\n",
    "\n"
   ]
  },
  {
   "cell_type": "code",
   "execution_count": 5,
   "metadata": {},
   "outputs": [],
   "source": [
    "focuscrimes = set(['OFFENCES AGAINST THE FAMILY AND CHILDREN', 'DRUG/NARCOTIC', 'DRUNKENNESS'])\n",
    "\n",
    "df = dataframes() #full dataset\n",
    "df_focuscrimes = dataframes(focuscrimes) #dataset with only focuscrimes\n",
    "\n",
    "# Filter data for years 2014 to 2024\n",
    "df_filtered = df_focuscrimes[(df_focuscrimes['Year'] >= 2018) & (df_focuscrimes['Year'] <= 2024)]\n"
   ]
  },
  {
   "cell_type": "code",
   "execution_count": 6,
   "metadata": {},
   "outputs": [],
   "source": [
    "df_cleaned = df_filtered.dropna(subset=['Latitude', 'Longitude'])"
   ]
  },
  {
   "cell_type": "code",
   "execution_count": 7,
   "metadata": {},
   "outputs": [
    {
     "data": {
      "application/vnd.plotly.v1+json": {
       "config": {
        "plotlyServerURL": "https://plot.ly"
       },
       "data": [
        {
         "marker": {
          "color": "lightblue",
          "line": {
           "color": "darkblue",
           "width": 0.5
          }
         },
         "name": "DRUNKENNESS",
         "opacity": 1,
         "r": [
          791,
          344,
          314,
          180,
          155,
          194,
          271,
          439,
          774,
          811,
          836,
          929,
          1158,
          1075,
          1072,
          1078,
          994,
          876,
          810,
          692,
          678,
          647,
          561,
          480
         ],
         "subplot": "polar",
         "theta": [
          7,
          22,
          37,
          52,
          67,
          82,
          97,
          112,
          127,
          142,
          157,
          172,
          187,
          202,
          217,
          232,
          247,
          262,
          277,
          292,
          307,
          322,
          337,
          352
         ],
         "type": "barpolar",
         "width": [
          15,
          15,
          15,
          15,
          15,
          15,
          15,
          15,
          15,
          15,
          15,
          15,
          15,
          15,
          15,
          15,
          15,
          15,
          15,
          15,
          15,
          15,
          15,
          15
         ]
        },
        {
         "marker": {
          "color": "lightblue",
          "line": {
           "color": "darkblue",
           "width": 0.5
          }
         },
         "name": "DRUG/NARCOTIC",
         "opacity": 1,
         "r": [
          634,
          369,
          343,
          257,
          159,
          135,
          387,
          778,
          919,
          989,
          988,
          1371,
          1867,
          2268,
          2176,
          2149,
          1921,
          1535,
          1206,
          997,
          735,
          694,
          787,
          672
         ],
         "subplot": "polar2",
         "theta": [
          7,
          22,
          37,
          52,
          67,
          82,
          97,
          112,
          127,
          142,
          157,
          172,
          187,
          202,
          217,
          232,
          247,
          262,
          277,
          292,
          307,
          322,
          337,
          352
         ],
         "type": "barpolar",
         "width": [
          15,
          15,
          15,
          15,
          15,
          15,
          15,
          15,
          15,
          15,
          15,
          15,
          15,
          15,
          15,
          15,
          15,
          15,
          15,
          15,
          15,
          15,
          15,
          15
         ]
        },
        {
         "marker": {
          "color": "lightblue",
          "line": {
           "color": "darkblue",
           "width": 0.5
          }
         },
         "name": "OFFENCES AGAINST THE FAMILY AND CHILDREN",
         "opacity": 1,
         "r": [
          717,
          295,
          269,
          222,
          180,
          175,
          231,
          381,
          548,
          586,
          645,
          611,
          805,
          615,
          613,
          667,
          694,
          620,
          652,
          606,
          575,
          584,
          523,
          461
         ],
         "subplot": "polar3",
         "theta": [
          7,
          22,
          37,
          52,
          67,
          82,
          97,
          112,
          127,
          142,
          157,
          172,
          187,
          202,
          217,
          232,
          247,
          262,
          277,
          292,
          307,
          322,
          337,
          352
         ],
         "type": "barpolar",
         "width": [
          15,
          15,
          15,
          15,
          15,
          15,
          15,
          15,
          15,
          15,
          15,
          15,
          15,
          15,
          15,
          15,
          15,
          15,
          15,
          15,
          15,
          15,
          15,
          15
         ]
        }
       ],
       "layout": {
        "annotations": [
         {
          "font": {
           "size": 16
          },
          "showarrow": false,
          "text": "DRUNKENNESS",
          "x": 0.15,
          "xanchor": "center",
          "xref": "paper",
          "y": 1.05,
          "yanchor": "bottom",
          "yref": "paper"
         },
         {
          "font": {
           "size": 16
          },
          "showarrow": false,
          "text": "DRUG/NARCOTIC",
          "x": 0.51,
          "xanchor": "center",
          "xref": "paper",
          "y": 1.05,
          "yanchor": "bottom",
          "yref": "paper"
         },
         {
          "font": {
           "size": 16
          },
          "showarrow": false,
          "text": "OFFENCES AGAINST THE FAMILY AND CHILDREN",
          "x": 0.87,
          "xanchor": "center",
          "xref": "paper",
          "y": 1.05,
          "yanchor": "bottom",
          "yref": "paper"
         }
        ],
        "font": {
         "family": "Times New Roman"
        },
        "polar": {
         "angularaxis": {
          "direction": "clockwise",
          "rotation": 90,
          "tickmode": "array",
          "ticktext": [
           "0:00",
           "1:00",
           "2:00",
           "3:00",
           "4:00",
           "5:00",
           "6:00",
           "7:00",
           "8:00",
           "9:00",
           "10:00",
           "11:00",
           "12:00",
           "13:00",
           "14:00",
           "15:00",
           "16:00",
           "17:00",
           "18:00",
           "19:00",
           "20:00",
           "21:00",
           "22:00",
           "23:00"
          ],
          "tickvals": [
           0,
           15,
           30,
           45,
           60,
           75,
           90,
           105,
           120,
           135,
           150,
           165,
           180,
           195,
           210,
           225,
           240,
           255,
           270,
           285,
           300,
           315,
           330,
           345
          ]
         },
         "domain": {
          "x": [
           0,
           0.3
          ],
          "y": [
           0,
           1
          ]
         },
         "radialaxis": {
          "range": [
           0,
           1208
          ],
          "tickangle": 90,
          "tickfont": {
           "family": "Times New Roman black",
           "size": 14
          },
          "visible": true
         }
        },
        "polar2": {
         "angularaxis": {
          "direction": "clockwise",
          "rotation": 90,
          "tickmode": "array",
          "ticktext": [
           "0:00",
           "1:00",
           "2:00",
           "3:00",
           "4:00",
           "5:00",
           "6:00",
           "7:00",
           "8:00",
           "9:00",
           "10:00",
           "11:00",
           "12:00",
           "13:00",
           "14:00",
           "15:00",
           "16:00",
           "17:00",
           "18:00",
           "19:00",
           "20:00",
           "21:00",
           "22:00",
           "23:00"
          ],
          "tickvals": [
           0,
           15,
           30,
           45,
           60,
           75,
           90,
           105,
           120,
           135,
           150,
           165,
           180,
           195,
           210,
           225,
           240,
           255,
           270,
           285,
           300,
           315,
           330,
           345
          ]
         },
         "domain": {
          "x": [
           0.35,
           0.65
          ],
          "y": [
           0,
           1
          ]
         },
         "radialaxis": {
          "range": [
           0,
           2318
          ],
          "tickangle": 90,
          "tickfont": {
           "family": "Times New Roman black",
           "size": 14
          },
          "visible": true
         }
        },
        "polar3": {
         "angularaxis": {
          "direction": "clockwise",
          "rotation": 90,
          "tickmode": "array",
          "ticktext": [
           "0:00",
           "1:00",
           "2:00",
           "3:00",
           "4:00",
           "5:00",
           "6:00",
           "7:00",
           "8:00",
           "9:00",
           "10:00",
           "11:00",
           "12:00",
           "13:00",
           "14:00",
           "15:00",
           "16:00",
           "17:00",
           "18:00",
           "19:00",
           "20:00",
           "21:00",
           "22:00",
           "23:00"
          ],
          "tickvals": [
           0,
           15,
           30,
           45,
           60,
           75,
           90,
           105,
           120,
           135,
           150,
           165,
           180,
           195,
           210,
           225,
           240,
           255,
           270,
           285,
           300,
           315,
           330,
           345
          ]
         },
         "domain": {
          "x": [
           0.7,
           1
          ],
          "y": [
           0,
           1
          ]
         },
         "radialaxis": {
          "range": [
           0,
           855
          ],
          "tickangle": 90,
          "tickfont": {
           "family": "Times New Roman black",
           "size": 14
          },
          "visible": true
         }
        },
        "showlegend": false,
        "template": {
         "data": {
          "bar": [
           {
            "error_x": {
             "color": "#2a3f5f"
            },
            "error_y": {
             "color": "#2a3f5f"
            },
            "marker": {
             "line": {
              "color": "#E5ECF6",
              "width": 0.5
             },
             "pattern": {
              "fillmode": "overlay",
              "size": 10,
              "solidity": 0.2
             }
            },
            "type": "bar"
           }
          ],
          "barpolar": [
           {
            "marker": {
             "line": {
              "color": "#E5ECF6",
              "width": 0.5
             },
             "pattern": {
              "fillmode": "overlay",
              "size": 10,
              "solidity": 0.2
             }
            },
            "type": "barpolar"
           }
          ],
          "carpet": [
           {
            "aaxis": {
             "endlinecolor": "#2a3f5f",
             "gridcolor": "white",
             "linecolor": "white",
             "minorgridcolor": "white",
             "startlinecolor": "#2a3f5f"
            },
            "baxis": {
             "endlinecolor": "#2a3f5f",
             "gridcolor": "white",
             "linecolor": "white",
             "minorgridcolor": "white",
             "startlinecolor": "#2a3f5f"
            },
            "type": "carpet"
           }
          ],
          "choropleth": [
           {
            "colorbar": {
             "outlinewidth": 0,
             "ticks": ""
            },
            "type": "choropleth"
           }
          ],
          "contour": [
           {
            "colorbar": {
             "outlinewidth": 0,
             "ticks": ""
            },
            "colorscale": [
             [
              0,
              "#0d0887"
             ],
             [
              0.1111111111111111,
              "#46039f"
             ],
             [
              0.2222222222222222,
              "#7201a8"
             ],
             [
              0.3333333333333333,
              "#9c179e"
             ],
             [
              0.4444444444444444,
              "#bd3786"
             ],
             [
              0.5555555555555556,
              "#d8576b"
             ],
             [
              0.6666666666666666,
              "#ed7953"
             ],
             [
              0.7777777777777778,
              "#fb9f3a"
             ],
             [
              0.8888888888888888,
              "#fdca26"
             ],
             [
              1,
              "#f0f921"
             ]
            ],
            "type": "contour"
           }
          ],
          "contourcarpet": [
           {
            "colorbar": {
             "outlinewidth": 0,
             "ticks": ""
            },
            "type": "contourcarpet"
           }
          ],
          "heatmap": [
           {
            "colorbar": {
             "outlinewidth": 0,
             "ticks": ""
            },
            "colorscale": [
             [
              0,
              "#0d0887"
             ],
             [
              0.1111111111111111,
              "#46039f"
             ],
             [
              0.2222222222222222,
              "#7201a8"
             ],
             [
              0.3333333333333333,
              "#9c179e"
             ],
             [
              0.4444444444444444,
              "#bd3786"
             ],
             [
              0.5555555555555556,
              "#d8576b"
             ],
             [
              0.6666666666666666,
              "#ed7953"
             ],
             [
              0.7777777777777778,
              "#fb9f3a"
             ],
             [
              0.8888888888888888,
              "#fdca26"
             ],
             [
              1,
              "#f0f921"
             ]
            ],
            "type": "heatmap"
           }
          ],
          "heatmapgl": [
           {
            "colorbar": {
             "outlinewidth": 0,
             "ticks": ""
            },
            "colorscale": [
             [
              0,
              "#0d0887"
             ],
             [
              0.1111111111111111,
              "#46039f"
             ],
             [
              0.2222222222222222,
              "#7201a8"
             ],
             [
              0.3333333333333333,
              "#9c179e"
             ],
             [
              0.4444444444444444,
              "#bd3786"
             ],
             [
              0.5555555555555556,
              "#d8576b"
             ],
             [
              0.6666666666666666,
              "#ed7953"
             ],
             [
              0.7777777777777778,
              "#fb9f3a"
             ],
             [
              0.8888888888888888,
              "#fdca26"
             ],
             [
              1,
              "#f0f921"
             ]
            ],
            "type": "heatmapgl"
           }
          ],
          "histogram": [
           {
            "marker": {
             "pattern": {
              "fillmode": "overlay",
              "size": 10,
              "solidity": 0.2
             }
            },
            "type": "histogram"
           }
          ],
          "histogram2d": [
           {
            "colorbar": {
             "outlinewidth": 0,
             "ticks": ""
            },
            "colorscale": [
             [
              0,
              "#0d0887"
             ],
             [
              0.1111111111111111,
              "#46039f"
             ],
             [
              0.2222222222222222,
              "#7201a8"
             ],
             [
              0.3333333333333333,
              "#9c179e"
             ],
             [
              0.4444444444444444,
              "#bd3786"
             ],
             [
              0.5555555555555556,
              "#d8576b"
             ],
             [
              0.6666666666666666,
              "#ed7953"
             ],
             [
              0.7777777777777778,
              "#fb9f3a"
             ],
             [
              0.8888888888888888,
              "#fdca26"
             ],
             [
              1,
              "#f0f921"
             ]
            ],
            "type": "histogram2d"
           }
          ],
          "histogram2dcontour": [
           {
            "colorbar": {
             "outlinewidth": 0,
             "ticks": ""
            },
            "colorscale": [
             [
              0,
              "#0d0887"
             ],
             [
              0.1111111111111111,
              "#46039f"
             ],
             [
              0.2222222222222222,
              "#7201a8"
             ],
             [
              0.3333333333333333,
              "#9c179e"
             ],
             [
              0.4444444444444444,
              "#bd3786"
             ],
             [
              0.5555555555555556,
              "#d8576b"
             ],
             [
              0.6666666666666666,
              "#ed7953"
             ],
             [
              0.7777777777777778,
              "#fb9f3a"
             ],
             [
              0.8888888888888888,
              "#fdca26"
             ],
             [
              1,
              "#f0f921"
             ]
            ],
            "type": "histogram2dcontour"
           }
          ],
          "mesh3d": [
           {
            "colorbar": {
             "outlinewidth": 0,
             "ticks": ""
            },
            "type": "mesh3d"
           }
          ],
          "parcoords": [
           {
            "line": {
             "colorbar": {
              "outlinewidth": 0,
              "ticks": ""
             }
            },
            "type": "parcoords"
           }
          ],
          "pie": [
           {
            "automargin": true,
            "type": "pie"
           }
          ],
          "scatter": [
           {
            "fillpattern": {
             "fillmode": "overlay",
             "size": 10,
             "solidity": 0.2
            },
            "type": "scatter"
           }
          ],
          "scatter3d": [
           {
            "line": {
             "colorbar": {
              "outlinewidth": 0,
              "ticks": ""
             }
            },
            "marker": {
             "colorbar": {
              "outlinewidth": 0,
              "ticks": ""
             }
            },
            "type": "scatter3d"
           }
          ],
          "scattercarpet": [
           {
            "marker": {
             "colorbar": {
              "outlinewidth": 0,
              "ticks": ""
             }
            },
            "type": "scattercarpet"
           }
          ],
          "scattergeo": [
           {
            "marker": {
             "colorbar": {
              "outlinewidth": 0,
              "ticks": ""
             }
            },
            "type": "scattergeo"
           }
          ],
          "scattergl": [
           {
            "marker": {
             "colorbar": {
              "outlinewidth": 0,
              "ticks": ""
             }
            },
            "type": "scattergl"
           }
          ],
          "scattermapbox": [
           {
            "marker": {
             "colorbar": {
              "outlinewidth": 0,
              "ticks": ""
             }
            },
            "type": "scattermapbox"
           }
          ],
          "scatterpolar": [
           {
            "marker": {
             "colorbar": {
              "outlinewidth": 0,
              "ticks": ""
             }
            },
            "type": "scatterpolar"
           }
          ],
          "scatterpolargl": [
           {
            "marker": {
             "colorbar": {
              "outlinewidth": 0,
              "ticks": ""
             }
            },
            "type": "scatterpolargl"
           }
          ],
          "scatterternary": [
           {
            "marker": {
             "colorbar": {
              "outlinewidth": 0,
              "ticks": ""
             }
            },
            "type": "scatterternary"
           }
          ],
          "surface": [
           {
            "colorbar": {
             "outlinewidth": 0,
             "ticks": ""
            },
            "colorscale": [
             [
              0,
              "#0d0887"
             ],
             [
              0.1111111111111111,
              "#46039f"
             ],
             [
              0.2222222222222222,
              "#7201a8"
             ],
             [
              0.3333333333333333,
              "#9c179e"
             ],
             [
              0.4444444444444444,
              "#bd3786"
             ],
             [
              0.5555555555555556,
              "#d8576b"
             ],
             [
              0.6666666666666666,
              "#ed7953"
             ],
             [
              0.7777777777777778,
              "#fb9f3a"
             ],
             [
              0.8888888888888888,
              "#fdca26"
             ],
             [
              1,
              "#f0f921"
             ]
            ],
            "type": "surface"
           }
          ],
          "table": [
           {
            "cells": {
             "fill": {
              "color": "#EBF0F8"
             },
             "line": {
              "color": "white"
             }
            },
            "header": {
             "fill": {
              "color": "#C8D4E3"
             },
             "line": {
              "color": "white"
             }
            },
            "type": "table"
           }
          ]
         },
         "layout": {
          "annotationdefaults": {
           "arrowcolor": "#2a3f5f",
           "arrowhead": 0,
           "arrowwidth": 1
          },
          "autotypenumbers": "strict",
          "coloraxis": {
           "colorbar": {
            "outlinewidth": 0,
            "ticks": ""
           }
          },
          "colorscale": {
           "diverging": [
            [
             0,
             "#8e0152"
            ],
            [
             0.1,
             "#c51b7d"
            ],
            [
             0.2,
             "#de77ae"
            ],
            [
             0.3,
             "#f1b6da"
            ],
            [
             0.4,
             "#fde0ef"
            ],
            [
             0.5,
             "#f7f7f7"
            ],
            [
             0.6,
             "#e6f5d0"
            ],
            [
             0.7,
             "#b8e186"
            ],
            [
             0.8,
             "#7fbc41"
            ],
            [
             0.9,
             "#4d9221"
            ],
            [
             1,
             "#276419"
            ]
           ],
           "sequential": [
            [
             0,
             "#0d0887"
            ],
            [
             0.1111111111111111,
             "#46039f"
            ],
            [
             0.2222222222222222,
             "#7201a8"
            ],
            [
             0.3333333333333333,
             "#9c179e"
            ],
            [
             0.4444444444444444,
             "#bd3786"
            ],
            [
             0.5555555555555556,
             "#d8576b"
            ],
            [
             0.6666666666666666,
             "#ed7953"
            ],
            [
             0.7777777777777778,
             "#fb9f3a"
            ],
            [
             0.8888888888888888,
             "#fdca26"
            ],
            [
             1,
             "#f0f921"
            ]
           ],
           "sequentialminus": [
            [
             0,
             "#0d0887"
            ],
            [
             0.1111111111111111,
             "#46039f"
            ],
            [
             0.2222222222222222,
             "#7201a8"
            ],
            [
             0.3333333333333333,
             "#9c179e"
            ],
            [
             0.4444444444444444,
             "#bd3786"
            ],
            [
             0.5555555555555556,
             "#d8576b"
            ],
            [
             0.6666666666666666,
             "#ed7953"
            ],
            [
             0.7777777777777778,
             "#fb9f3a"
            ],
            [
             0.8888888888888888,
             "#fdca26"
            ],
            [
             1,
             "#f0f921"
            ]
           ]
          },
          "colorway": [
           "#636efa",
           "#EF553B",
           "#00cc96",
           "#ab63fa",
           "#FFA15A",
           "#19d3f3",
           "#FF6692",
           "#B6E880",
           "#FF97FF",
           "#FECB52"
          ],
          "font": {
           "color": "#2a3f5f"
          },
          "geo": {
           "bgcolor": "white",
           "lakecolor": "white",
           "landcolor": "#E5ECF6",
           "showlakes": true,
           "showland": true,
           "subunitcolor": "white"
          },
          "hoverlabel": {
           "align": "left"
          },
          "hovermode": "closest",
          "mapbox": {
           "style": "light"
          },
          "paper_bgcolor": "white",
          "plot_bgcolor": "#E5ECF6",
          "polar": {
           "angularaxis": {
            "gridcolor": "white",
            "linecolor": "white",
            "ticks": ""
           },
           "bgcolor": "#E5ECF6",
           "radialaxis": {
            "gridcolor": "white",
            "linecolor": "white",
            "ticks": ""
           }
          },
          "scene": {
           "xaxis": {
            "backgroundcolor": "#E5ECF6",
            "gridcolor": "white",
            "gridwidth": 2,
            "linecolor": "white",
            "showbackground": true,
            "ticks": "",
            "zerolinecolor": "white"
           },
           "yaxis": {
            "backgroundcolor": "#E5ECF6",
            "gridcolor": "white",
            "gridwidth": 2,
            "linecolor": "white",
            "showbackground": true,
            "ticks": "",
            "zerolinecolor": "white"
           },
           "zaxis": {
            "backgroundcolor": "#E5ECF6",
            "gridcolor": "white",
            "gridwidth": 2,
            "linecolor": "white",
            "showbackground": true,
            "ticks": "",
            "zerolinecolor": "white"
           }
          },
          "shapedefaults": {
           "line": {
            "color": "#2a3f5f"
           }
          },
          "ternary": {
           "aaxis": {
            "gridcolor": "white",
            "linecolor": "white",
            "ticks": ""
           },
           "baxis": {
            "gridcolor": "white",
            "linecolor": "white",
            "ticks": ""
           },
           "bgcolor": "#E5ECF6",
           "caxis": {
            "gridcolor": "white",
            "linecolor": "white",
            "ticks": ""
           }
          },
          "title": {
           "x": 0.05
          },
          "xaxis": {
           "automargin": true,
           "gridcolor": "white",
           "linecolor": "white",
           "ticks": "",
           "title": {
            "standoff": 15
           },
           "zerolinecolor": "white",
           "zerolinewidth": 2
          },
          "yaxis": {
           "automargin": true,
           "gridcolor": "white",
           "linecolor": "white",
           "ticks": "",
           "title": {
            "standoff": 15
           },
           "zerolinecolor": "white",
           "zerolinewidth": 2
          }
         }
        }
       }
      }
     },
     "metadata": {},
     "output_type": "display_data"
    }
   ],
   "source": [
    "from plotly.subplots import make_subplots\n",
    "DRUNKENNESS_df = df_filtered[df_filtered['Incident Category'] == 'DRUNKENNESS']\n",
    "DRUG_NARCOTIC_df = df_filtered[df_filtered['Incident Category'] == 'DRUG/NARCOTIC']\n",
    "OFFENCES_AGAINST_THE_FAMILY_AND_CHILDREN_df = df_filtered[df_filtered['Incident Category'] == 'OFFENCES AGAINST THE FAMILY AND CHILDREN']\n",
    "fig = make_subplots(rows=1, cols=3, subplot_titles=['DRUNKENNESS', 'DRUG/NARCOTIC', 'OFFENCES AGAINST THE FAMILY AND CHILDREN'], specs=[[{'type': 'polar'}, {'type': 'polar'}, {'type': 'polar'}]])\n",
    "\n",
    "# Function to create polar bar plot for a given dataframe and subplot position\n",
    "def add_polar_bar(df, row, col, title):\n",
    "    hourly_counts = df.groupby(df.index.hour).size()\n",
    "    values = hourly_counts.reindex(range(24), fill_value=0)  # Ensure all 24 hours are included\n",
    "    angles = np.linspace(0, 360, 24, endpoint=False)  # 24-hour cycle in degrees\n",
    "\n",
    "    fig.add_trace(go.Barpolar(\n",
    "        r=values,\n",
    "        theta=angles+7,\n",
    "        width=[15] * 24,  # Adjust bar width as needed\n",
    "        marker_color='lightblue',  # Lighter color\n",
    "        marker_line_color='darkblue',\n",
    "        marker_line_width=0.5,\n",
    "        opacity=1,\n",
    "        name=title\n",
    "    ), row=row, col=col)\n",
    "    fig.update_polars(\n",
    "        radialaxis=dict(\n",
    "            visible=True,\n",
    "            range=[0, values.max() + 50],\n",
    "            tickangle=90,  # <-- Force label angle to be horizontal\n",
    "            tickfont=dict(size=14, family='Times New Roman black')       \n",
    "        ),\n",
    "        angularaxis=dict(\n",
    "            tickmode='array',\n",
    "            tickvals=angles,\n",
    "            ticktext=[f\"{h}:00\" for h in range(24)],\n",
    "            direction=\"clockwise\",\n",
    "            rotation=90\n",
    "        ),\n",
    "        row=row,\n",
    "        col=col\n",
    "    )\n",
    "\n",
    "# Add polar bar plots for each dataframe\n",
    "add_polar_bar(DRUNKENNESS_df, 1, 1, 'DRUNKENNESS')\n",
    "add_polar_bar(DRUG_NARCOTIC_df, 1, 2, 'DRUG/NARCOTIC')\n",
    "add_polar_bar(OFFENCES_AGAINST_THE_FAMILY_AND_CHILDREN_df, 1, 3, 'OFFENCES AGAINST THE FAMILY AND CHILDREN')\n",
    "\n",
    "# Customize layout\n",
    "fig.update_layout(\n",
    "    showlegend=False,\n",
    "    font=dict(family=\"Times New Roman\"),\n",
    "    annotations=[\n",
    "        dict(\n",
    "            text='DRUNKENNESS',\n",
    "            x=0.15,\n",
    "            y=1.05,\n",
    "            xref='paper',\n",
    "            yref='paper',\n",
    "            showarrow=False,\n",
    "            font=dict(size=16)\n",
    "        ),\n",
    "        dict(\n",
    "            text='DRUG/NARCOTIC',\n",
    "            x=0.51,\n",
    "            y=1.05,\n",
    "            xref='paper',\n",
    "            yref='paper',\n",
    "            showarrow=False,\n",
    "            font=dict(size=16)\n",
    "        ),\n",
    "        dict(\n",
    "            text='OFFENCES AGAINST THE FAMILY AND CHILDREN',\n",
    "            x=0.87,\n",
    "            y=1.05,\n",
    "            xref='paper',\n",
    "            yref='paper',\n",
    "            showarrow=False,\n",
    "            font=dict(size=16)\n",
    "        )\n",
    "    ],\n",
    "    polar=dict(domain=dict(x=[0.0, 0.3], y=[0.0, 1.0])),\n",
    "    polar2=dict(domain=dict(x=[0.35, 0.65], y=[0.0, 1.0])),\n",
    "    polar3=dict(domain=dict(x=[0.7, 1.0], y=[0.0, 1.0]))\n",
    ")\n",
    "\n",
    "# Show interactive plot\n",
    "fig.show()\n",
    "fig.write_image(\"polar_subplots.png\", width=1200, height=500)\n"
   ]
  },
  {
   "cell_type": "markdown",
   "metadata": {},
   "source": [
    "Folium heatmap plot OFFENCE"
   ]
  },
  {
   "cell_type": "code",
   "execution_count": null,
   "metadata": {},
   "outputs": [],
   "source": [
    "\n",
    "# Assuming 'Incident Date' is already a datetime object\n",
    "# Create Weight column based on the month from 'Incident Date'\n",
    "df_abuse = df_cleaned[df_cleaned[\"Incident Category\"] == \"OFFENCES AGAINST THE FAMILY AND CHILDREN\"]\n",
    "\n",
    "heat_df = df_abuse.dropna(axis=0, subset=['Latitude','Longitude'])\n",
    "heat_df['Weight'] = df_abuse.index.year\n",
    "lat=37.77919\n",
    "lon=-122.41914\n",
    "map_hooray=folium.Map([lat, lon], zoom_start=13)\n",
    "# Drop rows with missing Latitude, Longitude, or Weight\n",
    "heat_df = heat_df.dropna(axis=0, subset=['Latitude', 'Longitude', 'Weight'])\n",
    "\n",
    "# List comprehension to create list of lists for heatmap\n",
    "heat_data = [\n",
    "    [[row['Latitude'], row['Longitude']] for index, row in heat_df[heat_df['Weight'] == i].iterrows()]\n",
    "    for i in range(df_cleaned['Year'][0], df_cleaned['Year'][-1]+1)  \n",
    "]\n",
    "\n",
    "loc = 'OFFENCES AGAINST THE FAMILY AND CHILDREN'\n",
    "title_html = '''\n",
    "             <h3 align=\"center\" style=\"font-size:16px\"><b>{}</b></h3>\n",
    "             '''.format(loc) \n",
    "map_hooray.get_root().html.add_child(folium.Element(title_html))\n",
    "# Plot HeatMapWithTime\n",
    "year_range = list(range(df_cleaned['Year'].min(), df_cleaned['Year'].max() + 1))\n",
    "\n",
    "\n",
    "hm = plugins.HeatMapWithTime(\n",
    "    heat_data,\n",
    "    index=year_range,  # <- this makes the time slider show actual years\n",
    "    auto_play=True,\n",
    "    max_opacity=0.8\n",
    ")\n",
    "\n",
    "hm.add_to(map_hooray)# Inject custom CSS to make the time slider smaller\n",
    "# Inject custom CSS to make the time slider smaller\n",
    "# Custom CSS to style the time slider\n",
    "custom_css = \"\"\"\n",
    "    /* Resize the time slider */\n",
    "    .leaflet-control-heatmap-time-slider {\n",
    "        width: 50px !important;  /* Set the width of the time slider */\n",
    "        height: 5px !important;  /* Set the height of the time slider */\n",
    "        font-size: 1px !important;  /* Reduce the font size of the slider labels */\n",
    "        background-color: rgba(0, 0, 0, 0.3) !important; /* Optional: Adjust background color */\n",
    "        border-radius: 5px !important;  /* Optional: Add rounded corners */\n",
    "    }\n",
    "\n",
    "    /* Adjust the slider's button size */\n",
    "    .leaflet-control-heatmap-time-slider button {\n",
    "        width: 40px !important;  /* Adjust the width of the play/pause button */\n",
    "        height: 20px !important;  /* Adjust the height of the play/pause button */\n",
    "        font-size: 10px !important;  /* Reduce the font size of the play/pause button */\n",
    "    }\n",
    "\n",
    "    /* Adjust the position of the time slider (optional) */\n",
    "    .leaflet-control-heatmap-time-slider {\n",
    "        bottom: 20px !important;  /* Move the slider upwards */\n",
    "        left: 10px !important;    /* Move the slider towards left */\n",
    "    }\n",
    "\"\"\"\n",
    "\n",
    "# Inject custom CSS into the map\n",
    "map_hooray.get_root().html.add_child(folium.Element(f\"<style>{custom_css}</style>\"))\n",
    "\n",
    "\n",
    "# Display the map\n",
    "map_hooray.save(\"map_hooray_offences.html\")\n",
    "\n",
    "map_hooray\n"
   ]
  },
  {
   "cell_type": "markdown",
   "metadata": {},
   "source": [
    "DRUNKENNESS"
   ]
  },
  {
   "cell_type": "code",
   "execution_count": null,
   "metadata": {},
   "outputs": [],
   "source": [
    "# Assuming 'Incident Date' is already a datetime object\n",
    "# Create Weight column based on the month from 'Incident Date'\n",
    "df_drunk= df_cleaned[df_cleaned[\"Incident Category\"] == \"DRUNKENNESS\"]\n",
    "\n",
    "heat_df = df_drunk.dropna(axis=0, subset=['Latitude','Longitude'])\n",
    "heat_df['Weight'] = df_drunk.index.year\n",
    "lat=37.77919\n",
    "lon=-122.41914\n",
    "map_hooray=folium.Map([lat, lon], zoom_start=13)\n",
    "# Drop rows with missing Latitude, Longitude, or Weight\n",
    "heat_df = heat_df.dropna(axis=0, subset=['Latitude', 'Longitude', 'Weight'])\n",
    "\n",
    "# List comprehension to create list of lists for heatmap\n",
    "heat_data = [\n",
    "    [[row['Latitude'], row['Longitude']] for index, row in heat_df[heat_df['Weight'] == i].iterrows()]\n",
    "    for i in range(df_cleaned['Year'][0], df_cleaned['Year'][-1]+1)  \n",
    "]\n",
    "loc = 'DRUNKENNESS'\n",
    "title_html = '''\n",
    "             <h3 align=\"center\" style=\"font-size:16px\"><b>{}</b></h3>\n",
    "             '''.format(loc) \n",
    "map_hooray.get_root().html.add_child(folium.Element(title_html))\n",
    "# Plot HeatMapWithTime\n",
    "year_range = list(range(df_cleaned['Year'].min(), df_cleaned['Year'].max() + 1))\n",
    "\n",
    "hm = plugins.HeatMapWithTime(\n",
    "    heat_data,\n",
    "    index=year_range,  # <- this makes the time slider show actual years\n",
    "    auto_play=True,\n",
    "    max_opacity=0.8\n",
    ")\n",
    "\n",
    "hm.add_to(map_hooray)\n",
    "\n",
    "# Display the map\n",
    "map_hooray.save(\"map_hooray_drunk.html\")\n",
    "\n",
    "map_hooray\n"
   ]
  },
  {
   "cell_type": "code",
   "execution_count": null,
   "metadata": {},
   "outputs": [],
   "source": [
    "# Assuming 'Incident Date' is already a datetime object\n",
    "# Create Weight column based on the month from 'Incident Date'\n",
    "df_drug= df_cleaned[df_cleaned[\"Incident Category\"] == \"DRUG/NARCOTIC\"]\n",
    "\n",
    "heat_df = df_drug.dropna(axis=0, subset=['Latitude','Longitude'])\n",
    "heat_df['Weight'] = df_drug.index.year\n",
    "lat=37.77919\n",
    "lon=-122.41914\n",
    "map_hooray=folium.Map([lat, lon], zoom_start=13)\n",
    "# Drop rows with missing Latitude, Longitude, or Weight\n",
    "heat_df = heat_df.dropna(axis=0, subset=['Latitude', 'Longitude', 'Weight'])\n",
    "\n",
    "# List comprehension to create list of lists for heatmap\n",
    "heat_data = [\n",
    "    [[row['Latitude'], row['Longitude']] for index, row in heat_df[heat_df['Weight'] == i].iterrows()]\n",
    "    for i in range(df_cleaned['Year'][0], df_cleaned['Year'][-1]+1)  \n",
    "]\n",
    "loc = 'DRUG/NARCOTIC'\n",
    "title_html = '''\n",
    "             <h3 align=\"center\" style=\"font-size:16px\"><b>{}</b></h3>\n",
    "             '''.format(loc) \n",
    "map_hooray.get_root().html.add_child(folium.Element(title_html))\n",
    "# Plot HeatMapWithTime\n",
    "year_range = list(range(df_cleaned['Year'].min(), df_cleaned['Year'].max() + 1))\n",
    "\n",
    "hm = plugins.HeatMapWithTime(\n",
    "    heat_data,\n",
    "    index=year_range,  # <- this makes the time slider show actual years\n",
    "    auto_play=True,\n",
    "    max_opacity=0.8\n",
    ")\n",
    "\n",
    "hm.add_to(map_hooray)\n",
    "\n",
    "# Display the map\n",
    "map_hooray.save(\"map_hooray_drug.html\")\n",
    "\n",
    "map_hooray\n"
   ]
  }
 ],
 "metadata": {
  "kernelspec": {
   "display_name": "Python 3",
   "language": "python",
   "name": "python3"
  },
  "language_info": {
   "codemirror_mode": {
    "name": "ipython",
    "version": 3
   },
   "file_extension": ".py",
   "mimetype": "text/x-python",
   "name": "python",
   "nbconvert_exporter": "python",
   "pygments_lexer": "ipython3",
   "version": "3.12.5"
  }
 },
 "nbformat": 4,
 "nbformat_minor": 2
}
